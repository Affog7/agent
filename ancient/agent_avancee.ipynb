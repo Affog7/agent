{
 "cells": [
  {
   "cell_type": "code",
   "execution_count": 16,
   "metadata": {},
   "outputs": [],
   "source": [
    "import matplotlib.pyplot as plt\n",
    "import matplotlib.animation as animation\n",
    "from agent import RandomAgent"
   ]
  },
  {
   "cell_type": "code",
   "execution_count": 17,
   "metadata": {},
   "outputs": [],
   "source": [
    "\n",
    "# Créer l'environnement avec des dimensions 10x10\n",
    "from env import Environment\n",
    "\n",
    "\n",
    "env1 = Environment(10, 10)"
   ]
  },
  {
   "cell_type": "code",
   "execution_count": 3,
   "metadata": {},
   "outputs": [
    {
     "data": {
      "text/plain": [
       "10"
      ]
     },
     "execution_count": 3,
     "metadata": {},
     "output_type": "execute_result"
    }
   ],
   "source": [
    "env1.width"
   ]
  },
  {
   "cell_type": "code",
   "execution_count": 20,
   "metadata": {},
   "outputs": [],
   "source": [
    "run agent"
   ]
  },
  {
   "cell_type": "code",
   "execution_count": 22,
   "metadata": {},
   "outputs": [
    {
     "ename": "ImportError",
     "evalue": "cannot import name 'AvoidingAgent' from 'agent' (c:\\Users\\Affognon\\Documents\\Machine learning\\agent multiple\\agent.py)",
     "output_type": "error",
     "traceback": [
      "\u001b[1;31m---------------------------------------------------------------------------\u001b[0m",
      "\u001b[1;31mImportError\u001b[0m                               Traceback (most recent call last)",
      "Cell \u001b[1;32mIn[22], line 2\u001b[0m\n\u001b[0;32m      1\u001b[0m \u001b[38;5;66;03m# Ajouter des obstacles dans l'environnement\u001b[39;00m\n\u001b[1;32m----> 2\u001b[0m \u001b[38;5;28;01mfrom\u001b[39;00m \u001b[38;5;21;01magent\u001b[39;00m \u001b[38;5;28;01mimport\u001b[39;00m AvoidingAgent, GoalAgent\n\u001b[0;32m      5\u001b[0m obstacles \u001b[38;5;241m=\u001b[39m [(\u001b[38;5;241m1\u001b[39m, \u001b[38;5;241m1\u001b[39m), (\u001b[38;5;241m1\u001b[39m, \u001b[38;5;241m2\u001b[39m), (\u001b[38;5;241m1\u001b[39m, \u001b[38;5;241m3\u001b[39m), (\u001b[38;5;241m3\u001b[39m, \u001b[38;5;241m1\u001b[39m), (\u001b[38;5;241m3\u001b[39m, \u001b[38;5;241m2\u001b[39m), (\u001b[38;5;241m3\u001b[39m, \u001b[38;5;241m3\u001b[39m), (\u001b[38;5;241m5\u001b[39m, \u001b[38;5;241m5\u001b[39m), (\u001b[38;5;241m5\u001b[39m, \u001b[38;5;241m6\u001b[39m), (\u001b[38;5;241m5\u001b[39m, \u001b[38;5;241m7\u001b[39m)]\n\u001b[0;32m      6\u001b[0m \u001b[38;5;28;01mfor\u001b[39;00m (x, y) \u001b[38;5;129;01min\u001b[39;00m obstacles:\n",
      "\u001b[1;31mImportError\u001b[0m: cannot import name 'AvoidingAgent' from 'agent' (c:\\Users\\Affognon\\Documents\\Machine learning\\agent multiple\\agent.py)"
     ]
    }
   ],
   "source": [
    "# Ajouter des obstacles dans l'environnement\n",
    "from agent import AvoidingAgent, GoalAgent\n",
    "\n",
    "\n",
    "obstacles = [(1, 1), (1, 2), (1, 3), (3, 1), (3, 2), (3, 3), (5, 5), (5, 6), (5, 7)]\n",
    "for (x, y) in obstacles:\n",
    "    env1.add_obstacle(x,y)\n",
    "\n",
    "# Créer et ajouter des agents dans l'environnement\n",
    "agent1 = GoalAgent(0, 0, 'G')\n",
    "agent2 = AvoidingAgent(9, 9, 'A')\n",
    "env1.add_agent(agent1)\n",
    "env1.add_agent(agent2)"
   ]
  },
  {
   "cell_type": "code",
   "execution_count": 12,
   "metadata": {},
   "outputs": [
    {
     "data": {
      "image/png": "[encoded data removed]",
      "text/plain": [
       "<Figure size 640x480 with 1 Axes>"
      ]
     },
     "metadata": {},
     "output_type": "display_data"
    }
   ],
   "source": [
    "fig, ax = plt.subplots()\n",
    "ax.set_xlim(-1, 10)\n",
    "ax.set_ylim(-1, 10)\n",
    "ax.set_xticks(range(10))\n",
    "ax.set_yticks(range(10))\n",
    "ax.grid(True)\n",
    "\n",
    "# Ajouter des obstacles à la visualisation\n",
    "for (x, y) in env1.obstacles:\n",
    "    ax.plot(x, y, 'ks', markersize=20)  # 'ks' = black square\n",
    "\n",
    "# Ajouter des agents à la visualisation\n",
    "scatters = [ax.scatter(agent.x, agent.y, s=100, label=f'Agent {agent.symbol}') for agent in env1.agents]\n",
    "plt.legend()\n",
    "\n",
    "# Créer l'animation\n",
    "ani = animation.FuncAnimation(fig, Environment.update, frames=20, fargs=(env1, scatters), interval=500, blit=True)\n",
    "plt.show()"
   ]
  }
 ],
 "metadata": {
  "kernelspec": {
   "display_name": "augustin",
   "language": "python",
   "name": "python3"
  },
  "language_info": {
   "codemirror_mode": {
    "name": "ipython",
    "version": 3
   },
   "file_extension": ".py",
   "mimetype": "text/x-python",
   "name": "python",
   "nbconvert_exporter": "python",
   "pygments_lexer": "ipython3",
   "version": "3.11.9"
  }
 },
 "nbformat": 4,
 "nbformat_minor": 2
}
